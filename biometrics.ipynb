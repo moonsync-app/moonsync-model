{
 "cells": [
  {
   "cell_type": "code",
   "execution_count": 3,
   "metadata": {},
   "outputs": [
    {
     "name": "stdout",
     "output_type": "stream",
     "text": [
      "\u001b[33mWARNING: Ignoring invalid distribution -eautifulsoup4 (/usr/local/anaconda3/envs/llm-apps/lib/python3.10/site-packages)\u001b[0m\u001b[33m\n",
      "\u001b[0mRequirement already satisfied: terra-python in /usr/local/anaconda3/envs/llm-apps/lib/python3.10/site-packages (0.0.11)\n",
      "Collecting requests~=2.26.0 (from terra-python)\n",
      "  Using cached requests-2.26.0-py2.py3-none-any.whl.metadata (4.8 kB)\n",
      "Requirement already satisfied: urllib3<1.27,>=1.21.1 in /usr/local/anaconda3/envs/llm-apps/lib/python3.10/site-packages (from requests~=2.26.0->terra-python) (1.26.18)\n",
      "Requirement already satisfied: certifi>=2017.4.17 in /usr/local/anaconda3/envs/llm-apps/lib/python3.10/site-packages (from requests~=2.26.0->terra-python) (2024.2.2)\n",
      "Requirement already satisfied: charset-normalizer~=2.0.0 in /usr/local/anaconda3/envs/llm-apps/lib/python3.10/site-packages (from requests~=2.26.0->terra-python) (2.0.12)\n",
      "Requirement already satisfied: idna<4,>=2.5 in /usr/local/anaconda3/envs/llm-apps/lib/python3.10/site-packages (from requests~=2.26.0->terra-python) (3.4)\n",
      "Using cached requests-2.26.0-py2.py3-none-any.whl (62 kB)\n",
      "\u001b[33mWARNING: Ignoring invalid distribution -eautifulsoup4 (/usr/local/anaconda3/envs/llm-apps/lib/python3.10/site-packages)\u001b[0m\u001b[33m\n",
      "\u001b[0mInstalling collected packages: requests\n",
      "  Attempting uninstall: requests\n",
      "    Found existing installation: requests 2.31.0\n",
      "    Uninstalling requests-2.31.0:\n",
      "      Successfully uninstalled requests-2.31.0\n",
      "\u001b[31mERROR: pip's dependency resolver does not currently take into account all the packages that are installed. This behaviour is the source of the following dependency conflicts.\n",
      "chromadb 0.4.24 requires requests>=2.28, but you have requests 2.26.0 which is incompatible.\n",
      "conda 24.1.2 requires requests<3,>=2.28.0, but you have requests 2.26.0 which is incompatible.\n",
      "llama-index-core 0.10.29 requires requests>=2.31.0, but you have requests 2.26.0 which is incompatible.\n",
      "llama-index-legacy 0.9.48 requires requests>=2.31.0, but you have requests 2.26.0 which is incompatible.\n",
      "unstructured-client 0.18.0 requires charset-normalizer>=3.2.0, but you have charset-normalizer 2.0.12 which is incompatible.\n",
      "unstructured-client 0.18.0 requires requests>=2.31.0, but you have requests 2.26.0 which is incompatible.\u001b[0m\u001b[31m\n",
      "\u001b[0mSuccessfully installed requests-2.26.0\n",
      "\u001b[33mWARNING: Ignoring invalid distribution -eautifulsoup4 (/usr/local/anaconda3/envs/llm-apps/lib/python3.10/site-packages)\u001b[0m\u001b[33m\n",
      "\u001b[0mRequirement already satisfied: jsonpath-ng in /usr/local/anaconda3/envs/llm-apps/lib/python3.10/site-packages (1.6.1)\n",
      "Requirement already satisfied: ply in /usr/local/anaconda3/envs/llm-apps/lib/python3.10/site-packages (from jsonpath-ng) (3.11)\n",
      "\u001b[33mWARNING: Ignoring invalid distribution -eautifulsoup4 (/usr/local/anaconda3/envs/llm-apps/lib/python3.10/site-packages)\u001b[0m\u001b[33m\n",
      "\u001b[0m\u001b[33mWARNING: Ignoring invalid distribution -eautifulsoup4 (/usr/local/anaconda3/envs/llm-apps/lib/python3.10/site-packages)\u001b[0m\u001b[33m\n",
      "\u001b[0mRequirement already satisfied: sqlite_utils in /usr/local/anaconda3/envs/llm-apps/lib/python3.10/site-packages (3.36)\n",
      "Requirement already satisfied: sqlite-fts4 in /usr/local/anaconda3/envs/llm-apps/lib/python3.10/site-packages (from sqlite_utils) (1.0.3)\n",
      "Requirement already satisfied: click in /usr/local/anaconda3/envs/llm-apps/lib/python3.10/site-packages (from sqlite_utils) (8.1.7)\n",
      "Requirement already satisfied: click-default-group>=1.2.3 in /usr/local/anaconda3/envs/llm-apps/lib/python3.10/site-packages (from sqlite_utils) (1.2.4)\n",
      "Requirement already satisfied: tabulate in /usr/local/anaconda3/envs/llm-apps/lib/python3.10/site-packages (from sqlite_utils) (0.9.0)\n",
      "Requirement already satisfied: python-dateutil in /usr/local/anaconda3/envs/llm-apps/lib/python3.10/site-packages (from sqlite_utils) (2.8.2)\n",
      "Requirement already satisfied: pluggy in /usr/local/anaconda3/envs/llm-apps/lib/python3.10/site-packages (from sqlite_utils) (1.0.0)\n",
      "Requirement already satisfied: six>=1.5 in /usr/local/anaconda3/envs/llm-apps/lib/python3.10/site-packages (from python-dateutil->sqlite_utils) (1.16.0)\n",
      "\u001b[33mWARNING: Ignoring invalid distribution -eautifulsoup4 (/usr/local/anaconda3/envs/llm-apps/lib/python3.10/site-packages)\u001b[0m\u001b[33m\n",
      "\u001b[0m"
     ]
    }
   ],
   "source": [
    "!pip install terra-python\n",
    "!pip install jsonpath-ng\n",
    "!pip install sqlite_utils"
   ]
  },
  {
   "cell_type": "code",
   "execution_count": 4,
   "metadata": {},
   "outputs": [
    {
     "name": "stdout",
     "output_type": "stream",
     "text": [
      "Intel MKL WARNING: Support of Intel(R) Streaming SIMD Extensions 4.2 (Intel(R) SSE4.2) enabled only processors has been deprecated. Intel oneAPI Math Kernel Library 2025.0 will require Intel(R) Advanced Vector Extensions (Intel(R) AVX) instructions.\n",
      "Intel MKL WARNING: Support of Intel(R) Streaming SIMD Extensions 4.2 (Intel(R) SSE4.2) enabled only processors has been deprecated. Intel oneAPI Math Kernel Library 2025.0 will require Intel(R) Advanced Vector Extensions (Intel(R) AVX) instructions.\n"
     ]
    },
    {
     "name": "stderr",
     "output_type": "stream",
     "text": [
      "/usr/local/anaconda3/envs/llm-apps/lib/python3.10/site-packages/tqdm/auto.py:21: TqdmWarning: IProgress not found. Please update jupyter and ipywidgets. See https://ipywidgets.readthedocs.io/en/stable/user_install.html\n",
      "  from .autonotebook import tqdm as notebook_tqdm\n"
     ]
    },
    {
     "name": "stdout",
     "output_type": "stream",
     "text": [
      "🌍 To view the Phoenix app in your browser, visit http://localhost:6006/\n",
      "📺 To view the Phoenix app in a notebook, run `px.active_session().view()`\n",
      "📖 For more information on how to use Phoenix, check out https://docs.arize.com/phoenix\n"
     ]
    }
   ],
   "source": [
    "import phoenix as px\n",
    "from llama_index.core import (\n",
    "    set_global_handler,\n",
    "    \n",
    ")\n",
    "session = px.launch_app()\n",
    "set_global_handler(\"arize_phoenix\")"
   ]
  },
  {
   "cell_type": "code",
   "execution_count": 59,
   "metadata": {},
   "outputs": [],
   "source": [
    "# Importing the API and instantiating the client using your keys\n",
    "from terra.base_client import Terra\n",
    "import os\n",
    "import time\n",
    "from getpass import getpass\n",
    "\n",
    "API_KEY = getpass(\"Enter your API key: \")\n",
    "DEV_ID = getpass(\"Enter your DEV ID: \")\n",
    "SECRET = getpass(\"Enter your secret: \")\n",
    "\n",
    "terra = Terra(API_KEY, DEV_ID, SECRET)"
   ]
  },
  {
   "cell_type": "code",
   "execution_count": 106,
   "metadata": {},
   "outputs": [],
   "source": [
    "import requests\n",
    "from datetime import datetime, timedelta\n",
    "# datetime.today().strftime('%Y-%m-%d')\n",
    "\n",
    "API_ROOT = \"https://api.tryterra.co/v2\"\n",
    "USER_ID = \"688c8437-2d16-48de-b659-48317a63edb8\"\n",
    "DEFAULT_START_DATE = (datetime.today() - timedelta(28)).strftime(\"%Y-%m-%d\")\n",
    "DEFAULT_END_DATE = datetime.today().strftime(\"%Y-%m-%d\")\n",
    "\n",
    "\n",
    "def get_biometric_data(user_id, category, start_date = DEFAULT_START_DATE, end_date = DEFAULT_END_DATE, to_webhook=False):\n",
    "    url = f\"{API_ROOT}/{category}?user_id={user_id}&start_date={start_date}&end_date={end_date}&to_webhook={to_webhook}\"\n",
    "    res = requests.get(url, headers={ \"dev-id\": DEV_ID, \"x-api-key\": API_KEY })\n",
    "    return res.json()"
   ]
  },
  {
   "cell_type": "code",
   "execution_count": 115,
   "metadata": {},
   "outputs": [],
   "source": [
    "sleep_data_4_weeks = get_biometric_data(USER_ID, \"sleep\", start_date=(datetime.today() - timedelta(28)).strftime(\"%Y-%m-%d\"))"
   ]
  },
  {
   "cell_type": "code",
   "execution_count": 135,
   "metadata": {},
   "outputs": [
    {
     "name": "stdout",
     "output_type": "stream",
     "text": [
      "2024-03-21T21:33:59.000000-06:00 2024-03-22T08:02:54.000000-06:00\n",
      "2024-03-22T22:01:27.000000-06:00 2024-03-23T08:02:30.000000-06:00\n",
      "2024-03-23T21:45:28.000000-06:00 2024-03-24T07:20:13.000000-06:00\n",
      "2024-03-24T22:59:32.000000-06:00 2024-03-25T08:27:58.000000-06:00\n",
      "2024-03-25T23:06:02.000000-06:00 2024-03-26T08:44:23.000000-06:00\n",
      "2024-03-26T20:42:32.000000-06:00 2024-03-27T06:54:00.000000-06:00\n",
      "2024-03-27T22:11:04.000000-06:00 2024-03-28T08:19:52.000000-06:00\n",
      "2024-03-28T21:37:00.000000-06:00 2024-03-29T09:14:25.000000-06:00\n",
      "2024-03-29T23:16:31.000000-06:00 2024-03-30T07:03:29.000000-06:00\n",
      "2024-03-30T21:32:02.000000-06:00 2024-03-31T08:57:33.000000-06:00\n",
      "2024-03-31T23:04:30.000000-06:00 2024-04-01T08:36:30.000000-06:00\n",
      "2024-04-01T20:11:02.000000-06:00 2024-04-02T07:16:28.000000-06:00\n",
      "2024-04-02T21:17:29.000000-06:00 2024-04-03T07:00:43.000000-06:00\n",
      "2024-04-04T01:26:57.000000-06:00 2024-04-04T07:02:38.000000-06:00\n",
      "2024-04-04T21:40:28.000000-06:00 2024-04-05T06:55:28.000000-06:00\n",
      "2024-04-05T21:59:32.000000-06:00 2024-04-06T06:45:17.000000-06:00\n",
      "2024-04-07T00:27:00.000000-06:00 2024-04-07T07:15:11.000000-06:00\n",
      "2024-04-07T21:57:28.000000-06:00 2024-04-08T07:10:28.000000-06:00\n",
      "2024-04-08T21:12:30.000000-06:00 2024-04-09T05:34:20.000000-06:00\n",
      "2024-04-09T21:26:31.000000-06:00 2024-04-10T07:18:59.000000-06:00\n",
      "2024-04-10T21:30:01.000000-06:00 2024-04-11T08:03:54.000000-06:00\n",
      "2024-04-11T20:48:32.000000-06:00 2024-04-12T07:07:32.000000-06:00\n",
      "2024-04-12T22:36:59.000000-06:00 2024-04-13T06:40:28.000000-06:00\n",
      "2024-04-14T00:03:58.000000-06:00 2024-04-14T07:40:00.000000-06:00\n",
      "2024-04-16T00:15:01.000000-06:00 2024-04-16T05:31:30.000000-06:00\n",
      "2024-04-16T21:47:30.000000-06:00 2024-04-17T06:09:16.000000-06:00\n",
      "2024-04-17T21:50:58.000000-06:00 2024-04-18T08:06:58.000000-06:00\n",
      "2024-04-18T21:33:33.000000-06:00 2024-04-19T08:24:30.000000-06:00\n",
      "2024-04-19T21:30:32.000000-06:00 2024-04-20T07:08:00.000000-06:00\n",
      "Last 4 weeks Avg HR BPM:  [53.0, 53.625, 62.5, 55.125, 57.5, 55.375, 57.625, 62.25, 56.75, 61.625, 63.75, 63.25, 61.625, 56.625, 59.125, 55.5, 63.75, 53.875, 56.625, 57.5, 59.625, 54.875, 53.25, 56.75, 49.625, 49.375, 48.625, 48.625, 47.5] 29\n",
      "Last 4 weeks Resting HR BPM:  [47, 48, 50, 50, 51, 49, 51, 54, 51, 54, 58, 57, 55, 50, 52, 51, 51, 48, 51, 52, 49, 48, 48, 49, 43, 44, 43, 43, 42] 29\n",
      "Last 4 weeks Sleep Duration Data:  [37735, 36063, 34485, 34106, 34701, 36688, 36528, 41845, 28018, 41131, 34320, 39926, 34994, 20141, 33300, 31545, 24491, 33180, 30110, 35548, 38033, 37140, 29009, 27362, 18989, 30106, 36960, 39057, 34648] 29\n",
      "Last 4 weeks Deep Sleep Duration Data:  [3600, 4590, 3300, 4410, 5250, 4020, 5430, 3900, 3240, 5490, 3690, 4680, 1890, 4920, 2490, 2850, 4680, 4680, 4770, 4470, 3780, 5670, 4830, 3150, 2970, 4560, 3870, 6060, 5490] 29\n",
      "Last 4 weeks Temperature Delta Data:  [-0.04, -0.23, 0.14, -0.16, -0.26, -0.02, 0.24, 0.78, 0.11, 0.32, 0.06, 0.53, 0.08, 0.22, -0.12, -0.3, 0.12, 0.21, 0.25, 0.35, 0.34, 0.19, 0.2, 0.34, -0.09, -0.38, -0.11, -0.16, -0.18] 29\n"
     ]
    }
   ],
   "source": [
    "avg_hr_bpm = []\n",
    "resting_hr_bpm = []\n",
    "# oxygen_saturation_data = []\n",
    "duration_in_bed_seconds_data = []\n",
    "duration_deep_sleep = []\n",
    "temperature_delta = [] \n",
    "end_date = []\n",
    "for data in sleep_data_4_weeks['data']:\n",
    "  \n",
    "  if not data[\"metadata\"][\"is_nap\"]:\n",
    "    print(data[\"metadata\"][\"start_time\"], data[\"metadata\"][\"end_time\"])\n",
    "    end_date.append(data[\"metadata\"][\"end_time\"])\n",
    "    avg_hr_bpm.append(data[\"heart_rate_data\"][\"summary\"][\"avg_hr_bpm\"])\n",
    "    resting_hr_bpm.append(data[\"heart_rate_data\"][\"summary\"][\"resting_hr_bpm\"])\n",
    "    duration_in_bed_seconds_data.append(data[\"sleep_durations_data\"][\"other\"][\"duration_in_bed_seconds\"])\n",
    "    duration_deep_sleep.append(data[\"sleep_durations_data\"][\"asleep\"][\"duration_deep_sleep_state_seconds\"])\n",
    "    temperature_delta.append(data[\"temperature_data\"][\"delta\"])\n",
    "    \n",
    "  # oxygen_saturation_data.append(data[\"respiration_data\"][\"oxygen_saturation_data\"][\"avg_saturation_percentage\"])\n",
    "\n",
    "print(\"Last 4 weeks Avg HR BPM: \", avg_hr_bpm, len(avg_hr_bpm))\n",
    "print(\"Last 4 weeks Resting HR BPM: \", resting_hr_bpm, len(resting_hr_bpm))\n",
    "print(\"Last 4 weeks Sleep Duration Data: \", duration_in_bed_seconds_data,  len(duration_in_bed_seconds_data))\n",
    "print(\"Last 4 weeks Deep Sleep Duration Data: \", duration_deep_sleep, len(duration_deep_sleep))\n",
    "print(\"Last 4 weeks Temperature Delta Data: \", temperature_delta, len(temperature_delta))\n"
   ]
  },
  {
   "cell_type": "code",
   "execution_count": 123,
   "metadata": {},
   "outputs": [],
   "source": [
    "body_data_4_weeks = get_biometric_data(USER_ID, \"body\", start_date=(datetime.today() - timedelta(29)).strftime(\"%Y-%m-%d\"))"
   ]
  },
  {
   "cell_type": "code",
   "execution_count": 124,
   "metadata": {},
   "outputs": [
    {
     "name": "stdout",
     "output_type": "stream",
     "text": [
      "2024-03-22T00:00:00.000000 2024-03-23T00:00:00.000000\n",
      "2024-03-23T00:00:00.000000 2024-03-24T00:00:00.000000\n",
      "2024-03-24T00:00:00.000000 2024-03-25T00:00:00.000000\n",
      "2024-03-25T00:00:00.000000 2024-03-26T00:00:00.000000\n",
      "2024-03-26T00:00:00.000000 2024-03-27T00:00:00.000000\n",
      "2024-03-27T00:00:00.000000 2024-03-28T00:00:00.000000\n",
      "2024-03-28T00:00:00.000000 2024-03-29T00:00:00.000000\n",
      "2024-03-29T00:00:00.000000 2024-03-30T00:00:00.000000\n",
      "2024-03-30T00:00:00.000000 2024-03-31T00:00:00.000000\n",
      "2024-03-31T00:00:00.000000 2024-04-01T00:00:00.000000\n",
      "2024-04-01T00:00:00.000000 2024-04-02T00:00:00.000000\n",
      "2024-04-02T00:00:00.000000 2024-04-03T00:00:00.000000\n",
      "2024-04-03T00:00:00.000000 2024-04-04T00:00:00.000000\n",
      "2024-04-04T00:00:00.000000 2024-04-05T00:00:00.000000\n",
      "2024-04-05T00:00:00.000000 2024-04-06T00:00:00.000000\n",
      "2024-04-06T00:00:00.000000 2024-04-07T00:00:00.000000\n",
      "2024-04-07T00:00:00.000000 2024-04-08T00:00:00.000000\n",
      "2024-04-08T00:00:00.000000 2024-04-09T00:00:00.000000\n",
      "2024-04-09T00:00:00.000000 2024-04-10T00:00:00.000000\n",
      "2024-04-10T00:00:00.000000 2024-04-11T00:00:00.000000\n",
      "2024-04-11T00:00:00.000000 2024-04-12T00:00:00.000000\n",
      "2024-04-12T00:00:00.000000 2024-04-13T00:00:00.000000\n",
      "2024-04-13T00:00:00.000000 2024-04-14T00:00:00.000000\n",
      "2024-04-14T00:00:00.000000 2024-04-15T00:00:00.000000\n",
      "2024-04-16T00:00:00.000000 2024-04-17T00:00:00.000000\n",
      "2024-04-17T00:00:00.000000 2024-04-18T00:00:00.000000\n",
      "2024-04-18T00:00:00.000000 2024-04-19T00:00:00.000000\n",
      "2024-04-19T00:00:00.000000 2024-04-20T00:00:00.000000\n",
      "2024-04-20T00:00:00.000000 2024-04-21T00:00:00.000000\n",
      "Last 4 weeks Oxygen Data:  [97.712, 97.559, 97.934, 98.423, 97.478, 96.955, 97.69, 96.495, 98.297, 97.724, 97.123, 97.402, 98.032, 96.64, 98.064, 98.241, 96.501, 98.442, 96.929, 97.06, 95.715, 97.845, 96.546, 96.431, 97.305, 97.296, 97.421, 97.146, 95.856] 29\n"
     ]
    }
   ],
   "source": [
    "avg_saturation_percentage = []\n",
    "for data in body_data_4_weeks['data']:\n",
    "    print(data[\"metadata\"][\"start_time\"], data[\"metadata\"][\"end_time\"])\n",
    "    avg_saturation_percentage.append(data[\"oxygen_data\"][\"avg_saturation_percentage\"])\n",
    "\n",
    "print(\"Last 4 weeks Oxygen Data: \", avg_saturation_percentage, len(avg_saturation_percentage))"
   ]
  },
  {
   "cell_type": "code",
   "execution_count": 125,
   "metadata": {},
   "outputs": [],
   "source": [
    "daily_data = get_biometric_data(USER_ID, \"daily\", start_date=(datetime.today() - timedelta(27)).strftime(\"%Y-%m-%d\"))"
   ]
  },
  {
   "cell_type": "code",
   "execution_count": 127,
   "metadata": {},
   "outputs": [
    {
     "name": "stdout",
     "output_type": "stream",
     "text": [
      "2024-03-23T00:00:00.000000-06:00 2024-03-24T00:00:00.000000-06:00\n",
      "2024-03-24T00:00:00.000000-06:00 2024-03-25T00:00:00.000000-06:00\n",
      "2024-03-25T00:00:00.000000-06:00 2024-03-26T00:00:00.000000-06:00\n",
      "2024-03-26T00:00:00.000000-06:00 2024-03-27T00:00:00.000000-06:00\n",
      "2024-03-27T00:00:00.000000-06:00 2024-03-28T00:00:00.000000-06:00\n",
      "2024-03-28T00:00:00.000000-06:00 2024-03-29T00:00:00.000000-06:00\n",
      "2024-03-29T00:00:00.000000-06:00 2024-03-30T00:00:00.000000-06:00\n",
      "2024-03-30T00:00:00.000000-06:00 2024-03-31T00:00:00.000000-06:00\n",
      "2024-03-31T00:00:00.000000-06:00 2024-04-01T00:00:00.000000-06:00\n",
      "2024-04-01T00:00:00.000000-06:00 2024-04-02T00:00:00.000000-06:00\n",
      "2024-04-02T00:00:00.000000-06:00 2024-04-03T00:00:00.000000-06:00\n",
      "2024-04-03T00:00:00.000000-06:00 2024-04-04T00:00:00.000000-06:00\n",
      "2024-04-04T00:00:00.000000-06:00 2024-04-05T00:00:00.000000-06:00\n",
      "2024-04-05T00:00:00.000000-06:00 2024-04-06T00:00:00.000000-06:00\n",
      "2024-04-06T00:00:00.000000-06:00 2024-04-07T00:00:00.000000-06:00\n",
      "2024-04-07T00:00:00.000000-06:00 2024-04-08T00:00:00.000000-06:00\n",
      "2024-04-08T00:00:00.000000-06:00 2024-04-09T00:00:00.000000-06:00\n",
      "2024-04-09T00:00:00.000000-06:00 2024-04-10T00:00:00.000000-06:00\n",
      "2024-04-10T00:00:00.000000-06:00 2024-04-11T00:00:00.000000-06:00\n",
      "2024-04-11T00:00:00.000000-06:00 2024-04-12T00:00:00.000000-06:00\n",
      "2024-04-12T00:00:00.000000-06:00 2024-04-13T00:00:00.000000-06:00\n",
      "2024-04-13T00:00:00.000000-06:00 2024-04-14T00:00:00.000000-06:00\n",
      "2024-04-14T00:00:00.000000-06:00 2024-04-15T00:00:00.000000-06:00\n",
      "2024-04-15T00:00:00.000000-06:00 2024-04-16T00:00:00.000000-06:00\n",
      "2024-04-16T00:00:00.000000-06:00 2024-04-17T00:00:00.000000-06:00\n",
      "2024-04-17T00:00:00.000000-06:00 2024-04-18T00:00:00.000000-06:00\n",
      "2024-04-18T00:00:00.000000-06:00 2024-04-19T00:00:00.000000-06:00\n",
      "2024-04-19T00:00:00.000000-06:00 2024-04-20T00:00:00.000000-06:00\n",
      "2024-04-20T00:00:00.000000-06:00 2024-04-21T00:00:00.000000-06:00\n",
      "Last 4 weeks Recovery Score:  [None, 81, 83, 82, 83, 81, 63, 80, 81, 74, 62, 73, 66, 81, 82, 64, 86, 79, 85, 83, 91, 86, 88, None, 72, 88, 88, 87, 89] 29\n",
      "Last 4 weeks Activity Score:  [None, None, None, None, None, None, None, None, None, None, None, None, None, None, None, None, None, None, None, None, None, None, None, 94, 84, 80, 86, 80, 74] 29\n",
      "Last 4 weeks Sleep Score:  [None, 90, 92, 90, 89, 94, 91, 73, 92, 84, 86, 87, 62, 92, 86, 70, 91, 90, 92, 91, 90, 86, 81, None, 74, 93, 95, 96, 94] 29\n",
      "Last 4 weeks Stress Data:  [None, 8100, 900, 1800, 2700, 900, 900, 3600, 0, 1800, 0, 1800, 900, 900, 7200, 12600, 5400, 13500, 7200, 10800, 17100, 16200, 16200, 41400, 10800, 31500, 15300, 0, 0] 29\n",
      "Last 4 weeks Number of Steps:  [3250, 2734, 1551, 2947, 2685, 3660, 4031, 3278, 2344, 1453, 2096, 4166, 2075, 2643, 3416, 2855, 4475, 3368, 4591, 4369, 4364, 6474, 3483, 6625, 5663, 5619, 6610, 5106, 3618] 29\n",
      "Last 4 weeks Net Burned Calories:  [1785, 1776, 1656, 1728, 1732, 1758, 1807, 1759, 1675, 1619, 1694, 1847, 1689, 1715, 1829, 1749, 1859, 1759, 1853, 1832, 1902, 2038, 1819, 2003, 1882, 1891, 1880, 1797, 1640] 29\n"
     ]
    }
   ],
   "source": [
    "recovery_score = []\n",
    "activity_score = []\n",
    "sleep_score = []\n",
    "stress_data = []\n",
    "number_steps = []\n",
    "total_burned_calories = []\n",
    "\n",
    "for i in range(len(daily_data['data'])):\n",
    "    print(daily_data['data'][i][\"metadata\"][\"start_time\"], daily_data['data'][i][\"metadata\"][\"end_time\"])\n",
    "    recovery_score.append(daily_data['data'][i][\"scores\"][\"recovery\"])\n",
    "    activity_score.append(daily_data['data'][i][\"scores\"][\"activity\"])\n",
    "    sleep_score.append(daily_data['data'][i][\"scores\"][\"sleep\"])\n",
    "    stress_data.append(daily_data['data'][i][\"stress_data\"][\"rest_stress_duration_seconds\"])\n",
    "    number_steps.append(daily_data['data'][i][\"distance_data\"][\"steps\"])\n",
    "    total_burned_calories.append(daily_data['data'][i][\"calories_data\"][\"total_burned_calories\"])\n",
    "\n",
    "\n",
    "print(\"Last 4 weeks Recovery Score: \", recovery_score, len(recovery_score))\n",
    "print(\"Last 4 weeks Activity Score: \", activity_score, len(activity_score))\n",
    "print(\"Last 4 weeks Sleep Score: \", sleep_score, len(sleep_score))   \n",
    "print(\"Last 4 weeks Stress Data: \", stress_data, len(stress_data))\n",
    "print(\"Last 4 weeks Number of Steps: \", number_steps, len(number_steps))\n",
    "print(\"Last 4 weeks Net Burned Calories: \", total_burned_calories, len(total_burned_calories))"
   ]
  },
  {
   "cell_type": "code",
   "execution_count": 90,
   "metadata": {},
   "outputs": [],
   "source": []
  },
  {
   "cell_type": "code",
   "execution_count": 136,
   "metadata": {},
   "outputs": [],
   "source": [
    "import pandas as pd\n",
    "\n",
    "column_names = ['date', 'recovery_score', 'activity_score', 'sleep_score', 'stress_data', 'number_steps', 'total_burned_calories', 'avg_saturation_percentage', 'avg_hr_bpm', 'resting_hr_bpm', 'duration_in_bed_seconds_data', 'duration_deep_sleep', 'temperature_delta']\n",
    "\n",
    "df = pd.DataFrame(columns=column_names)"
   ]
  },
  {
   "cell_type": "code",
   "execution_count": 137,
   "metadata": {},
   "outputs": [],
   "source": [
    "# fill the dataframe with the right data lists\n",
    "df['date'] = end_date\n",
    "df['recovery_score'] = recovery_score\n",
    "df['activity_score'] = activity_score\n",
    "df['sleep_score'] = sleep_score\n",
    "df['stress_data'] = stress_data\n",
    "df['number_steps'] = number_steps\n",
    "df['total_burned_calories'] = total_burned_calories\n",
    "df['avg_saturation_percentage'] = avg_saturation_percentage\n",
    "df['avg_hr_bpm'] = avg_hr_bpm\n",
    "df['resting_hr_bpm'] = resting_hr_bpm\n",
    "# df['oxygen_saturation_data'] = oxygen_saturation_data\n",
    "df['duration_in_bed_seconds_data'] = duration_in_bed_seconds_data\n",
    "df['duration_deep_sleep'] = duration_deep_sleep\n",
    "df['temperature_delta'] = temperature_delta"
   ]
  },
  {
   "cell_type": "code",
   "execution_count": 138,
   "metadata": {},
   "outputs": [],
   "source": [
    "df.to_csv(\"biometric_data.csv\", index=False)"
   ]
  },
  {
   "cell_type": "code",
   "execution_count": 133,
   "metadata": {},
   "outputs": [],
   "source": []
  },
  {
   "cell_type": "code",
   "execution_count": null,
   "metadata": {},
   "outputs": [],
   "source": []
  }
 ],
 "metadata": {
  "kernelspec": {
   "display_name": "llm-apps",
   "language": "python",
   "name": "python3"
  },
  "language_info": {
   "codemirror_mode": {
    "name": "ipython",
    "version": 3
   },
   "file_extension": ".py",
   "mimetype": "text/x-python",
   "name": "python",
   "nbconvert_exporter": "python",
   "pygments_lexer": "ipython3",
   "version": "3.10.13"
  }
 },
 "nbformat": 4,
 "nbformat_minor": 2
}
