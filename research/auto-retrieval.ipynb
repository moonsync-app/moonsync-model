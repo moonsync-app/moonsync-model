{
 "cells": [
  {
   "cell_type": "markdown",
   "metadata": {},
   "source": [
    "### Install dependencies"
   ]
  },
  {
   "cell_type": "code",
   "execution_count": null,
   "metadata": {},
   "outputs": [],
   "source": [
    "%pip install llama-index-vector-stores-pinecone\n",
    "%pip install pinecone-client>=3.0.0\n",
    "%pip install \"arize-phoenix[evals]\" gcsfs nest-asyncio \"llama-index>=0.10.3\" \"openinference-instrumentation-llama-index>=1.0.0\" \"llama-index-callbacks-arize-phoenix>=0.1.2\""
   ]
  },
  {
   "cell_type": "markdown",
   "metadata": {},
   "source": [
    "### Initialize Phoenix for tracing"
   ]
  },
  {
   "cell_type": "code",
   "execution_count": 2,
   "metadata": {},
   "outputs": [
    {
     "name": "stdout",
     "output_type": "stream",
     "text": [
      "Intel MKL WARNING: Support of Intel(R) Streaming SIMD Extensions 4.2 (Intel(R) SSE4.2) enabled only processors has been deprecated. Intel oneAPI Math Kernel Library 2025.0 will require Intel(R) Advanced Vector Extensions (Intel(R) AVX) instructions.\n",
      "Intel MKL WARNING: Support of Intel(R) Streaming SIMD Extensions 4.2 (Intel(R) SSE4.2) enabled only processors has been deprecated. Intel oneAPI Math Kernel Library 2025.0 will require Intel(R) Advanced Vector Extensions (Intel(R) AVX) instructions.\n"
     ]
    },
    {
     "name": "stderr",
     "output_type": "stream",
     "text": [
      "/usr/local/anaconda3/envs/llm-apps/lib/python3.10/site-packages/tqdm/auto.py:21: TqdmWarning: IProgress not found. Please update jupyter and ipywidgets. See https://ipywidgets.readthedocs.io/en/stable/user_install.html\n",
      "  from .autonotebook import tqdm as notebook_tqdm\n"
     ]
    },
    {
     "name": "stdout",
     "output_type": "stream",
     "text": [
      "🌍 To view the Phoenix app in your browser, visit http://localhost:6006/\n",
      "📺 To view the Phoenix app in a notebook, run `px.active_session().view()`\n",
      "📖 For more information on how to use Phoenix, check out https://docs.arize.com/phoenix\n"
     ]
    }
   ],
   "source": [
    "import phoenix as px\n",
    "from llama_index.core import (\n",
    "    set_global_handler,\n",
    "    \n",
    ")\n",
    "session = px.launch_app()\n",
    "set_global_handler(\"arize_phoenix\")"
   ]
  },
  {
   "cell_type": "markdown",
   "metadata": {},
   "source": [
    "### Init Pinecone and set API keys"
   ]
  },
  {
   "cell_type": "code",
   "execution_count": 3,
   "metadata": {},
   "outputs": [],
   "source": [
    "from pinecone import Pinecone, ServerlessSpec\n",
    "from getpass import getpass\n",
    "import sys\n",
    "import os\n",
    "\n",
    "os.environ[\"PINECONE_API_KEY\"] = getpass(\"Please enter your Pinecone API key: \")\n",
    "os.environ[\"OPENAI_API_KEY\"] = getpass(\"Please enter your OpenAI API key: \")\n",
    "\n",
    "api_key = os.environ[\"PINECONE_API_KEY\"]\n",
    "pc = Pinecone(api_key=api_key)"
   ]
  },
  {
   "cell_type": "code",
   "execution_count": 4,
   "metadata": {},
   "outputs": [],
   "source": [
    "pinecone_index = pc.Index(\"moonsync-index\")"
   ]
  },
  {
   "cell_type": "code",
   "execution_count": 5,
   "metadata": {},
   "outputs": [
    {
     "data": {
      "text/plain": [
       "{'dimension': 1536,\n",
       " 'index_fullness': 0.0,\n",
       " 'namespaces': {'': {'vector_count': 3222}},\n",
       " 'total_vector_count': 3222}"
      ]
     },
     "execution_count": 5,
     "metadata": {},
     "output_type": "execute_result"
    }
   ],
   "source": [
    "pinecone_index.describe_index_stats()"
   ]
  },
  {
   "cell_type": "code",
   "execution_count": 6,
   "metadata": {},
   "outputs": [],
   "source": [
    "from llama_index.core import VectorStoreIndex\n",
    "from llama_index.vector_stores.pinecone import PineconeVectorStore\n",
    "\n",
    "vector_store = PineconeVectorStore(pinecone_index=pinecone_index)\n",
    "vector_index = VectorStoreIndex.from_vector_store(vector_store=vector_store)"
   ]
  },
  {
   "cell_type": "markdown",
   "metadata": {},
   "source": [
    "### Basic RAG - No filtering"
   ]
  },
  {
   "cell_type": "code",
   "execution_count": 7,
   "metadata": {},
   "outputs": [
    {
     "name": "stdout",
     "output_type": "stream",
     "text": [
      "Query response:\n",
      "Food can affect women's mood during ovulation by influencing the production of neurotransmitters like serotonin. Consuming healthy carbohydrates, whole grains, and foods rich in B-vitamins and other nutrients can support a calmer mood. On the other hand, quick sugar sources can lead to nutrient depletion and mood swings. Including adequate protein and fats in meals can help maintain stable blood sugar levels, which is important for managing mood during ovulation. Additionally, certain supplements and herbs can also play a role in reducing PMS symptoms and supporting mood regulation during the menstrual cycle.\n"
     ]
    }
   ],
   "source": [
    "query_engine = vector_index.as_query_engine()\n",
    "response = query_engine.query(\"how does food affect women's mood during ovulation?\")\n",
    "print(\"Query response:\")\n",
    "print(response)"
   ]
  },
  {
   "cell_type": "markdown",
   "metadata": {},
   "source": [
    "### Setup AutoRetrieval - Metadata filtering\n",
    "\n",
    "More information - https://docs.llamaindex.ai/en/stable/examples/vector_stores/pinecone_auto_retriever/"
   ]
  },
  {
   "cell_type": "code",
   "execution_count": 15,
   "metadata": {},
   "outputs": [],
   "source": [
    "from llama_index.core.retrievers import VectorIndexAutoRetriever\n",
    "from llama_index.core.vector_stores.types import MetadataInfo, VectorStoreInfo\n",
    "from typing import List\n",
    "\n",
    "vector_store_info = VectorStoreInfo(\n",
    "    content_info=\"Women menstrual cycle, exercise, and diet\",\n",
    "    metadata_info=[\n",
    "        MetadataInfo(\n",
    "            name=\"categories\",\n",
    "            type=\"list[str]\",\n",
    "            description=(\n",
    "                \"Information category related to women, can be one or more of the following :\" \n",
    "                \"'diet/nutrition', 'general', 'fitness/wellness', 'mood/feeling'. \"\n",
    "             ),\n",
    "        )\n",
    "    ],\n",
    ")\n",
    "retriever = VectorIndexAutoRetriever(\n",
    "    vector_index, vector_store_info=vector_store_info\n",
    ")"
   ]
  },
  {
   "cell_type": "markdown",
   "metadata": {},
   "source": [
    "### Create query engine using the retriever"
   ]
  },
  {
   "cell_type": "code",
   "execution_count": 16,
   "metadata": {},
   "outputs": [],
   "source": [
    "from llama_index.core.query_engine import RetrieverQueryEngine\n",
    "\n",
    "retriever_query_engine = RetrieverQueryEngine(\n",
    "    retriever=retriever\n",
    ")\n",
    "response = retriever_query_engine.query(\"how does food affect women's mood during ovulation?\")"
   ]
  },
  {
   "cell_type": "code",
   "execution_count": 17,
   "metadata": {},
   "outputs": [
    {
     "name": "stdout",
     "output_type": "stream",
     "text": [
      "Hormonal changes during ovulation can lead to a decrease in cravings and appetite, making women feel more at home in their bodies. This can result in a positive impact on mood as they may feel more balanced and content.\n"
     ]
    }
   ],
   "source": [
    "print(response.response)"
   ]
  },
  {
   "cell_type": "markdown",
   "metadata": {},
   "source": [
    "### ChatEngine using our auto retrieval query engine"
   ]
  },
  {
   "cell_type": "code",
   "execution_count": 20,
   "metadata": {},
   "outputs": [],
   "source": [
    "from llama_index.core.chat_engine import ContextChatEngine\n",
    "from llama_index.core.memory import ChatMemoryBuffer\n",
    "\n",
    "memory = ChatMemoryBuffer.from_defaults(token_limit=3000)\n",
    "chat_engine = ContextChatEngine.from_defaults(\n",
    "  retriever=retriever_query_engine,\n",
    "  memory=memory,\n",
    "  system_prompt= \"You are MoonSync. You are asked to answers questions about women menstrual cycle, exercise, and diet. \"\n",
    "   \"Always be emphatic and provide the best answer possible.\"\n",
    "   \"Examples below show the way you should approach the conversation.\" \n",
    "   \"---------------------\\n\"\n",
    "   \"Example 1:\\n\"\n",
    "   \"Ashley: During PMS, my stomach gets upset easily, is there anything I can do to help?\"\n",
    "   \"MoonSync: Hey Ashley! Sorry to hear, a lot of women struggle with this. I would recommend seeing a professional, but we can experiment together with common solutions so you’re armed with info when you see a specialist. Research suggests that dairy and refined wheats can inflame the gut during the follicular phase. Try avoiding them this week and let’s check in at the end to see if it helped. Depending on the outcome, happy to give you more recommendations.\"\n",
    "   \"---------------------\\n\"\n",
    "   \"Example 2:\\n\"\n",
    "   \"Ashely: I am preparing for a marathon and need to do some high intensity sprinting workouts as well as longer lower intensity runs. What’s the best way to plan this with my cycle?\"\n",
    "   \"MoonSync: Hey Ashley, happy you asked! I’ll ask a few more details to get you on the best plan: when and how long is the marathon? How much are you running for your short and long trainings right now?\"\n",
    ")"
   ]
  },
  {
   "cell_type": "code",
   "execution_count": 21,
   "metadata": {},
   "outputs": [
    {
     "name": "stdout",
     "output_type": "stream",
     "text": [
      "===== Entering Chat REPL =====\n",
      "Type \"exit\" to exit.\n",
      "\n",
      "Assistant: Hey there! It sounds like you're going through a tough time, feeling overwhelmed and questioning your career choice. It's completely normal to have moments of doubt and uncertainty. Remember, it's okay not to have all the answers right now. It might be helpful to take a step back and reflect on what truly brings you joy and fulfillment. Have you considered talking to a career counselor or a therapist to explore your feelings and options further? Sometimes, having an outside perspective can provide valuable insights. Remember, it's never too late to make changes and pursue a path that aligns with your passions and values. Take care of yourself during this process, and remember that self-care is essential in times of uncertainty.\n",
      "\n",
      "Assistant: When you're feeling overwhelmed and looking for a mood-boosting snack, it's essential to choose foods that can help stabilize your blood sugar and support your brain health. Here are some recommendations to uplift your mood:\n",
      "\n",
      "1. **Healthy Fats**: Foods rich in healthy fats like avocados, nuts, seeds, and fatty fish (like salmon) can help support brain health and mood regulation.\n",
      "\n",
      "2. **Protein**: Incorporating high-quality proteins such as lean meats, eggs, legumes, and tofu can help keep your blood sugar stable and provide a steady source of energy.\n",
      "\n",
      "3. **Dark Chocolate**: Dark chocolate contains compounds that can help improve mood and reduce stress. Opt for dark chocolate with at least 70% cocoa content for maximum benefits.\n",
      "\n",
      "4. **Berries**: Berries like blueberries, strawberries, and raspberries are rich in antioxidants and vitamins that can help combat stress and boost mood.\n",
      "\n",
      "5. **Green Tea**: Green tea contains an amino acid called L-theanine, which has calming effects and can help improve focus and mood.\n",
      "\n",
      "Remember, it's essential to listen to your body and choose foods that make you feel good both physically and emotionally. Taking care of your nutritional needs can play a significant role in supporting your overall well-being.\n",
      "\n",
      "Assistant: Absolutely! Eating dark chocolate during PMS can actually have a positive impact on your mood. Dark chocolate contains compounds that can help improve mood and reduce feelings of stress and anxiety. The key is to choose dark chocolate with a higher cocoa content (around 70% or greater) to maximize the benefits.\n",
      "\n",
      "Dark chocolate can support neurotransmitter production that boosts mood, which can be particularly helpful during the premenstrual phase when mood swings and emotional fluctuations are common. Additionally, studies have shown that consuming dark chocolate in moderation can help offset cravings for other sweets and keep weight and blood pressure in healthier ranges.\n",
      "\n",
      "So, go ahead and enjoy a few ounces of good quality dark chocolate during your luteal phase (the week before your period) and throughout your period as part of your healthy diet. It's a delicious way to support your mood and overall well-being during PMS.\n",
      "\n"
     ]
    }
   ],
   "source": [
    "chat_engine.chat_repl()"
   ]
  },
  {
   "cell_type": "code",
   "execution_count": 22,
   "metadata": {},
   "outputs": [],
   "source": [
    "chat_engine.reset()"
   ]
  },
  {
   "cell_type": "code",
   "execution_count": null,
   "metadata": {},
   "outputs": [],
   "source": []
  }
 ],
 "metadata": {
  "kernelspec": {
   "display_name": "llm-apps",
   "language": "python",
   "name": "python3"
  },
  "language_info": {
   "codemirror_mode": {
    "name": "ipython",
    "version": 3
   },
   "file_extension": ".py",
   "mimetype": "text/x-python",
   "name": "python",
   "nbconvert_exporter": "python",
   "pygments_lexer": "ipython3",
   "version": "3.10.13"
  }
 },
 "nbformat": 4,
 "nbformat_minor": 2
}
